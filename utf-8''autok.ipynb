{
  "cells": [
    {
      "metadata": {},
      "cell_type": "markdown",
      "source": "# 4. Céges autók #\nEgy cég 10 olyan autóval rendelkezik, amelyet a dolgozók igénybe vehetnek az üzleti ügyeik intézésére. Az autókat akár többnapos útra is elvihetik, illetve egy autót egy nap több dolgozó is elvihet. A rendszer az autók parkolóból való ki- és behajtását rögzíti. A parkoló a hónap minden napján 7-23 óra között van nyitva, csak ebben az időszakban lehet elvinni és visszahozni az autókat. Az autót mindig annak a dolgozónak kell visszahoznia, amelyik elvitte. Egyszerre csak egy autó lehet minden dolgozónál.\n\nAz *autok.txt* fájl egy hónap (30 nap) adatait rögzíti. Egy sorban szóközökkel elválasztva 6 adat található az alábbi sorrendben.\n\n| nap                 | egész szám (1-30)                   | a hónap adott napja                         |\n|---------------------|-------------------------------------|---------------------------------------------|\n| óra:perc            | szöveg (óó:pp formátumban)          | a ki- vagy a behajtás időpontja             |\n| rendszám            | 6 karakteres szöveg (CEG300-CEG309) | az autó rendszáma                           |\n| személy azonosítója | egész szám (500-600)                | az autót igénybe vevő dolgozó azonosítója   |\n| km számláló         | egész szám                          | a km számláló állása                        |\n| ki/be hajtás        | egész szám (0 vagy 1)               | a parkolóból kihajtáskor 0, a behajtáskor 1 |\n\n\nA sorok száma legfeljebb 500. Az adatok a napok szerint, azon belül óra és perc szerint rendezettek. Továbbá tudjuk, hogy a hónap első napján a cég mind a tíz autója a parkolóban volt. Például:\n```\n…\n5 07:30 CEG300 590 30580 0\n5 14:16 CEG300 590 30656 1\n5 17:00 CEG300 534 30656 0\n5 19:03 CEG300 534 30784 1\n…\n15 09:53 CEG308 543 35048 0\n17 11:16 CEG308 543 35746 1\n```\nA példában látható, hogy a CEG300 rendszámú autót az 5. napon kétszer is elvitték. Először\n7:30-kor vitték el és 14:16-kor hozta vissza az 590-es dolgozó. A kivitelkor a kilométerszámláló\nállása 30 580 km volt, amikor visszahozta 30 656 km volt. Másodszor 17:00-kor vitte el\naz 534-es dolgozó az autót és 19:03-kor hozta vissza. A CEG308 rendszámú autót pedig\na 15. napon vitte el az 543-as dolgozó és a 17. napon hozta vissza.\n\nKészítsen programot, amely az autok.txt állomány adatait felhasználva az alábbi\nkérdésekre válaszol! A program forráskódját mentse cegesauto néven! (A program\nmegírásakor a felhasználó által megadott adatok helyességét, érvényességét nem kell\nellenőriznie, feltételezheti, hogy a rendelkezésre álló adatok a leírtaknak megfelelnek.)\n\nA képernyőre írást igénylő részfeladatok eredményének megjelenítése előtt írja a képernyőre\na feladat sorszámát (például: **3. feladat**)! Ha a felhasználótól kér be adatot, jelenítse meg\na képernyőn, hogy milyen értéket vár! Az ékezetmentes kiírás is elfogadott.\n\nAz eredmény megjelenítését és a felhasználóval való kommunikációt a feladatot követő\nminta alapján valósítsa meg! "
    },
    {
      "metadata": {},
      "cell_type": "markdown",
      "source": "### 1. Olvassa be és tárolja el az autok.txt fájl tartalmát! ###\n"
    },
    {
      "metadata": {
        "trusted": true
      },
      "cell_type": "code",
      "source": "import pandas as pd\nautok = pd.read_csv('autok.txt',sep=' ', names=['nap', 'ido','rsz','sofor','kmo','irany'])\nautok.head(2)",
      "execution_count": 1,
      "outputs": [
        {
          "output_type": "execute_result",
          "execution_count": 1,
          "data": {
            "text/html": "<div>\n<style scoped>\n    .dataframe tbody tr th:only-of-type {\n        vertical-align: middle;\n    }\n\n    .dataframe tbody tr th {\n        vertical-align: top;\n    }\n\n    .dataframe thead th {\n        text-align: right;\n    }\n</style>\n<table border=\"1\" class=\"dataframe\">\n  <thead>\n    <tr style=\"text-align: right;\">\n      <th></th>\n      <th>nap</th>\n      <th>ido</th>\n      <th>rsz</th>\n      <th>sofor</th>\n      <th>kmo</th>\n      <th>irany</th>\n    </tr>\n  </thead>\n  <tbody>\n    <tr>\n      <th>0</th>\n      <td>1</td>\n      <td>08:45</td>\n      <td>CEG306</td>\n      <td>501</td>\n      <td>23989</td>\n      <td>0</td>\n    </tr>\n    <tr>\n      <th>1</th>\n      <td>1</td>\n      <td>09:04</td>\n      <td>CEG304</td>\n      <td>583</td>\n      <td>8477</td>\n      <td>0</td>\n    </tr>\n  </tbody>\n</table>\n</div>",
            "text/plain": "   nap    ido     rsz  sofor    kmo  irany\n0    1  08:45  CEG306    501  23989      0\n1    1  09:04  CEG304    583   8477      0"
          },
          "metadata": {}
        }
      ]
    },
    {
      "metadata": {},
      "cell_type": "markdown",
      "source": "Az olvashatóság kedvéért a 0,1 kicserélése 'ki' - 'be' szavakra."
    },
    {
      "metadata": {
        "trusted": true
      },
      "cell_type": "code",
      "source": "def ki_be(c):\n    return 'ki' if c==0 else 'be'\nautok.irany = autok.irany.apply(ki_be)\nautok.head(2)",
      "execution_count": 2,
      "outputs": [
        {
          "output_type": "execute_result",
          "execution_count": 2,
          "data": {
            "text/html": "<div>\n<style scoped>\n    .dataframe tbody tr th:only-of-type {\n        vertical-align: middle;\n    }\n\n    .dataframe tbody tr th {\n        vertical-align: top;\n    }\n\n    .dataframe thead th {\n        text-align: right;\n    }\n</style>\n<table border=\"1\" class=\"dataframe\">\n  <thead>\n    <tr style=\"text-align: right;\">\n      <th></th>\n      <th>nap</th>\n      <th>ido</th>\n      <th>rsz</th>\n      <th>sofor</th>\n      <th>kmo</th>\n      <th>irany</th>\n    </tr>\n  </thead>\n  <tbody>\n    <tr>\n      <th>0</th>\n      <td>1</td>\n      <td>08:45</td>\n      <td>CEG306</td>\n      <td>501</td>\n      <td>23989</td>\n      <td>ki</td>\n    </tr>\n    <tr>\n      <th>1</th>\n      <td>1</td>\n      <td>09:04</td>\n      <td>CEG304</td>\n      <td>583</td>\n      <td>8477</td>\n      <td>ki</td>\n    </tr>\n  </tbody>\n</table>\n</div>",
            "text/plain": "   nap    ido     rsz  sofor    kmo irany\n0    1  08:45  CEG306    501  23989    ki\n1    1  09:04  CEG304    583   8477    ki"
          },
          "metadata": {}
        }
      ]
    },
    {
      "metadata": {},
      "cell_type": "markdown",
      "source": "### 2. Adja meg, hogy melyik autót vitték el utoljára a parkolóból! Az eredményt a mintának megfelelően írja a képernyőre!  ###\n"
    },
    {
      "metadata": {
        "trusted": true
      },
      "cell_type": "code",
      "source": "d30 = autok[(autok.nap == 30) & (autok.irany == 'ki')].sort_values('ido', ascending=False)\nprint('30. nap rendszám: ', d30.iloc[-1]['rsz'])",
      "execution_count": 3,
      "outputs": [
        {
          "output_type": "stream",
          "text": "30. nap rendszám:  CEG300\n",
          "name": "stdout"
        }
      ]
    },
    {
      "metadata": {},
      "cell_type": "markdown",
      "source": "### 3. Kérjen be egy napot és írja ki a képernyőre a minta szerint, hogy mely autókat vitték ki és hozták vissza az adott napon!  ###\n"
    },
    {
      "metadata": {
        "trusted": true
      },
      "cell_type": "code",
      "source": "autok[autok.nap == int(input('Melyik nap: '))]",
      "execution_count": 4,
      "outputs": [
        {
          "output_type": "stream",
          "name": "stdout",
          "text": "Melyik nap: 4\n"
        },
        {
          "output_type": "execute_result",
          "execution_count": 4,
          "data": {
            "text/html": "<div>\n<style scoped>\n    .dataframe tbody tr th:only-of-type {\n        vertical-align: middle;\n    }\n\n    .dataframe tbody tr th {\n        vertical-align: top;\n    }\n\n    .dataframe thead th {\n        text-align: right;\n    }\n</style>\n<table border=\"1\" class=\"dataframe\">\n  <thead>\n    <tr style=\"text-align: right;\">\n      <th></th>\n      <th>nap</th>\n      <th>ido</th>\n      <th>rsz</th>\n      <th>sofor</th>\n      <th>kmo</th>\n      <th>irany</th>\n    </tr>\n  </thead>\n  <tbody>\n    <tr>\n      <th>44</th>\n      <td>4</td>\n      <td>12:50</td>\n      <td>CEG303</td>\n      <td>561</td>\n      <td>5065</td>\n      <td>ki</td>\n    </tr>\n    <tr>\n      <th>45</th>\n      <td>4</td>\n      <td>19:17</td>\n      <td>CEG308</td>\n      <td>552</td>\n      <td>27998</td>\n      <td>be</td>\n    </tr>\n  </tbody>\n</table>\n</div>",
            "text/plain": "    nap    ido     rsz  sofor    kmo irany\n44    4  12:50  CEG303    561   5065    ki\n45    4  19:17  CEG308    552  27998    be"
          },
          "metadata": {}
        }
      ]
    },
    {
      "metadata": {},
      "cell_type": "markdown",
      "source": "### 4. Adja meg, hogy hány autó nem volt bent a hónap végén a parkolóban!  ###\n"
    },
    {
      "metadata": {
        "trusted": true
      },
      "cell_type": "code",
      "source": "ki = autok[autok['irany'] == 'ki']\nbe = autok[autok['irany'] == 'be']\nprint(f'{ki.shape[0] - be.shape[0]} autót nem hoztak vissza')",
      "execution_count": 5,
      "outputs": [
        {
          "output_type": "stream",
          "text": "4 autót nem hoztak vissza\n",
          "name": "stdout"
        }
      ]
    },
    {
      "metadata": {},
      "cell_type": "markdown",
      "source": "### 5. Készítsen statisztikát! Írja ki a képernyőre mind a 10 autó esetén az ebben a hónapban megtett távolságot kilométerben! A hónap végén még kint lévő autók esetén az utolsó rögzített kilométerállással számoljon! A kiírásban az autók sorrendje tetszőleges lehet.  ###\n"
    },
    {
      "metadata": {
        "trusted": true
      },
      "cell_type": "code",
      "source": "c = autok.groupby(['rsz']).agg(['min', 'max']).kmo\nfor i, r in c.iterrows():\n    print(i, r['max']-r['min'],' km')",
      "execution_count": 6,
      "outputs": [
        {
          "output_type": "stream",
          "text": "CEG300 6751  km\nCEG301 5441  km\nCEG302 5101  km\nCEG303 7465  km\nCEG304 6564  km\nCEG305 5232  km\nCEG306 7165  km\nCEG307 6489  km\nCEG308 6745  km\nCEG309 1252  km\n",
          "name": "stdout"
        }
      ]
    },
    {
      "metadata": {},
      "cell_type": "markdown",
      "source": "### 6. Határozza meg, melyik személy volt az, aki az autó egy elvitele alatt a leghosszabb távolságot tette meg! A személy azonosítóját és a megtett kilométert a minta szerint írja a képernyőre! (Több legnagyobb érték esetén bármelyiket kiírhatja.) ###\n"
    },
    {
      "metadata": {
        "trusted": true
      },
      "cell_type": "code",
      "source": "d = {}\nfor i, r in autok.iterrows():\n    so = r['sofor']\n    if so in d:\n        d[so].append([r['rsz'], r['kmo']])\n    else:\n        d[so] = [[r['rsz'],r['kmo']]]    \nsofor = {}\nfor k, v in d.items():\n    v = v[::-1]\n    sofor[k] = 0\n    for i in range(len(v) % 2, len(v), 2):\n        sofor[k] = max(sofor[k], v[i][1] - v[i + 1][1])\nm = sorted(sofor, key=sofor.get)[-1]\nprint(f'Leghosszabb út:{sofor[m]} km, személy: {m}')",
      "execution_count": 7,
      "outputs": [
        {
          "output_type": "stream",
          "text": "Leghosszabb út:1551 km, személy: 506\n",
          "name": "stdout"
        }
      ]
    },
    {
      "metadata": {},
      "cell_type": "markdown",
      "source": "### 7. Az autók esetén egy havi menetlevelet kell készíteni! ###\nKérjen be a felhasználótól egy rendszámot! Készítsen egy X_menetlevel.txt állományt, amelybe elkészíti az adott rendszámú autó menetlevelét! (Az X helyére az autó rendszáma kerüljön!) A fájlba soronként tabulátorral elválasztva a személy azonosítóját, a kivitel időpontját (nap.óra:perc), a kilométerszámláló állását, a visszahozatal időpontját (nap. óra:perc), és a kilométerszámláló állását írja a minta szerint! (A tabulátor karakter ASCII-kódja: 9.) "
    },
    {
      "metadata": {
        "trusted": true
      },
      "cell_type": "code",
      "source": "c = autok[autok.rsz == input('Rendszám:').upper()]\nc.set_index(['nap','sofor','irany'], inplace=True)\nfor i, r in c.iterrows():\n    ki = i[2] == 'ki'\n    if ki:\n        print('\\n',i[1],'\\t', end=' ')\n    print(f\"{i[0]:3}.\\t{r['ido']}\\t{r['kmo']}\\t\", end=' ')",
      "execution_count": 8,
      "outputs": [
        {
          "output_type": "stream",
          "name": "stdout",
          "text": "Rendszám:ceg300\n\n 513 \t   2.\t15:08\t29309\t   2.\t17:29\t29357\t \n 564 \t   2.\t18:06\t29357\t   3.\t22:48\t30580\t \n 590 \t   5.\t07:30\t30580\t   5.\t14:16\t30656\t \n 534 \t   5.\t17:00\t30656\t   5.\t19:03\t30784\t \n 590 \t   7.\t16:10\t30784\t   7.\t19:30\t30837\t \n 531 \t   9.\t14:53\t30837\t  10.\t17:50\t31737\t \n 506 \t  11.\t09:46\t31737\t  11.\t11:25\t31942\t \n 503 \t  11.\t13:52\t31942\t  11.\t15:24\t31993\t \n 561 \t  13.\t11:04\t31993\t  13.\t22:01\t32452\t \n 588 \t  14.\t13:02\t32452\t  14.\t22:23\t33148\t \n 544 \t  15.\t10:12\t33148\t  18.\t19:34\t34265\t \n 555 \t  19.\t12:21\t34265\t  19.\t22:05\t34533\t \n 522 \t  20.\t13:24\t34533\t  20.\t19:32\t34601\t \n 522 \t  21.\t07:14\t34601\t  23.\t09:36\t35242\t \n 557 \t  23.\t11:43\t35242\t  23.\t17:37\t35300\t \n 572 \t  23.\t18:03\t35300\t  24.\t20:17\t35598\t \n 564 \t  25.\t13:02\t35598\t  25.\t17:43\t35675\t \n 543 \t  27.\t11:08\t35675\t  28.\t18:44\t35924\t \n 588 \t  30.\t09:03\t35924\t  30.\t16:37\t36060\t "
        }
      ]
    },
    {
      "metadata": {},
      "cell_type": "markdown",
      "source": "### Minta a szöveges kimenetek kialakításához:###\n```\n2. feladat\n30. nap rendszám: CEG300\n3. feladat\nNap: 4\nForgalom a(z) 4. napon:\n12:50 CEG303 561 ki\n19:17 CEG308 552 be\n4. feladat\nA hónap végén 4 autót nem hoztak vissza.\n5. feladat\nCEG300 6751 km\nCEG301 5441 km\nCEG302 5101 km\nCEG303 7465 km\nCEG304 6564 km\nCEG305 5232 km\nCEG306 7165 km\nCEG307 6489 km\nCEG308 6745 km\nCEG309 1252 km\n6. feladat\nLeghosszabb út: 1551 km, személy: 506\n7. feladat\nRendszám: CEG304\nMenetlevél kész.\n```\n### A CEG304_menetlevel.txt fájl tartalma:###\n```\n...\n588 21. 16:58 13452 km 23. 20:28 14335 km\n512 24. 16:58 14335 km 26. 22:21 15041 km\n504 27. 13:47 15041 km \n```"
    }
  ],
  "metadata": {
    "kernelspec": {
      "name": "python36",
      "display_name": "Python 3.6",
      "language": "python"
    },
    "language_info": {
      "mimetype": "text/x-python",
      "nbconvert_exporter": "python",
      "name": "python",
      "pygments_lexer": "ipython3",
      "version": "3.6.6",
      "file_extension": ".py",
      "codemirror_mode": {
        "version": 3,
        "name": "ipython"
      }
    }
  },
  "nbformat": 4,
  "nbformat_minor": 2
}